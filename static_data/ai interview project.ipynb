{
 "cells": [
  {
   "cell_type": "code",
   "execution_count": null,
   "metadata": {
    "id": "yMFffF3r6EpJ"
   },
   "outputs": [],
   "source": [
    "pip install sentence-transformers scikit-learn"
   ]
  },
  {
   "cell_type": "code",
   "execution_count": null,
   "metadata": {
    "id": "I-7J5fko6L9R"
   },
   "outputs": [],
   "source": [
    "from sentence_transformers import SentenceTransformer\n",
    "from sklearn.metrics.pairwise import cosine_similarity\n",
    "import numpy as np\n",
    "\n",
    "# Initialize the model\n",
    "model = SentenceTransformer('all-MiniLM-L6-v2')\n",
    "\n",
    "# Hardcoded interview questions and ideal answers\n",
    "interview_data = [\n",
    "    {\n",
    "        \"question\": \"Tell me about yourself.\",\n",
    "        \"ideal_answer\": \"I am a motivated individual with a background in software development, particularly skilled in Python and machine learning.\"\n",
    "    },\n",
    "    {\n",
    "        \"question\": \"Why should we hire you?\",\n",
    "        \"ideal_answer\": \"I bring strong problem-solving abilities, a collaborative mindset, and a passion for learning that aligns with your team values.\"\n",
    "    },\n",
    "    {\n",
    "        \"question\": \"What are your strengths?\",\n",
    "        \"ideal_answer\": \"My greatest strengths include adaptability, effective communication, and a strong grasp of analytical thinking.\"\n",
    "    },\n",
    "    {\n",
    "        \"question\": \"What is your experience with AI or ML?\",\n",
    "        \"ideal_answer\": \"I have worked on projects involving machine learning models, data preprocessing, model evaluation, and deployment using Python libraries like scikit-learn and TensorFlow.\"\n",
    "    }\n",
    "]\n",
    "\n",
    "print(\"\\nWelcome to the AI Interview Simulator!\\nAnswer the following questions:\\n\")\n",
    "total_score = 0\n",
    "\n",
    "for idx, item in enumerate(interview_data, start=1):\n",
    "    print(f\"Q{idx}: {item['question']}\")\n",
    "    user_answer = input(\"Your Answer: \")\n",
    "\n",
    "    # Compute embeddings\n",
    "    embeddings = model.encode([user_answer, item['ideal_answer']])\n",
    "    similarity = cosine_similarity([embeddings[0]], [embeddings[1]])[0][0]\n",
    "\n",
    "    # Display result\n",
    "    print(f\"Similarity to ideal answer: {similarity:.2f}\\n\")\n",
    "    total_score += similarity\n",
    "\n",
    "# Final assessment\n",
    "average_score = total_score / len(interview_data)\n",
    "print(\"📝 Interview Summary:\")\n",
    "print(f\"Your average answer similarity score: {average_score:.2f}\")\n",
    "\n",
    "if average_score > 0.75:\n",
    "    print(\"✅ Excellent! You are well-prepared for interviews.\")\n",
    "elif average_score > 0.5:\n",
    "    print(\"⚠️ Decent effort, but some improvements are needed.\")\n",
    "else:\n",
    "    print(\"❌ You may want to refine your answers and try again.\")\n"
   ]
  }
 ],
 "metadata": {
  "colab": {
   "provenance": []
  },
  "kernelspec": {
   "display_name": "Python 3 (ipykernel)",
   "language": "python",
   "name": "python3"
  },
  "language_info": {
   "codemirror_mode": {
    "name": "ipython",
    "version": 3
   },
   "file_extension": ".py",
   "mimetype": "text/x-python",
   "name": "python",
   "nbconvert_exporter": "python",
   "pygments_lexer": "ipython3",
   "version": "3.9.15"
  }
 },
 "nbformat": 4,
 "nbformat_minor": 1
}
