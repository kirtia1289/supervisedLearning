{
 "cells": [
  {
   "cell_type": "code",
   "execution_count": null,
   "metadata": {
    "id": "0R4R4OoT3nK_"
   },
   "outputs": [],
   "source": [
    "import pandas as pd\n",
    "import torch"
   ]
  },
  {
   "cell_type": "code",
   "execution_count": null,
   "metadata": {
    "id": "FbI_zz1L3ucV"
   },
   "outputs": [],
   "source": [
    "data = pd.read_csv('Position_Salaries.csv')"
   ]
  },
  {
   "cell_type": "code",
   "execution_count": null,
   "metadata": {
    "id": "C36ru5uBKBYO"
   },
   "outputs": [],
   "source": [
    "data= data.apply(pd.to_numeric, errors= 'coerce')"
   ]
  },
  {
   "cell_type": "code",
   "execution_count": null,
   "metadata": {
    "colab": {
     "base_uri": "https://localhost:8080/",
     "height": 332
    },
    "id": "7ejy6PAnKQpe",
    "outputId": "78463d49-9d5e-42cc-b809-e0290d4c2a1a"
   },
   "outputs": [
    {
     "data": {
      "application/vnd.google.colaboratory.intrinsic+json": {
       "summary": "{\n  \"name\": \"data\",\n  \"rows\": 9,\n  \"fields\": [\n    {\n      \"column\": \"Position\",\n      \"properties\": {\n        \"dtype\": \"number\",\n        \"std\": null,\n        \"min\": null,\n        \"max\": null,\n        \"num_unique_values\": 0,\n        \"samples\": [],\n        \"semantic_type\": \"\",\n        \"description\": \"\"\n      }\n    },\n    {\n      \"column\": \"Level\",\n      \"properties\": {\n        \"dtype\": \"number\",\n        \"std\": 2,\n        \"min\": 1,\n        \"max\": 9,\n        \"num_unique_values\": 9,\n        \"samples\": [],\n        \"semantic_type\": \"\",\n        \"description\": \"\"\n      }\n    },\n    {\n      \"column\": \"Salary\",\n      \"properties\": {\n        \"dtype\": \"number\",\n        \"std\": 78439,\n        \"min\": 45000,\n        \"max\": 250000,\n        \"num_unique_values\": 9,\n        \"samples\": [],\n        \"semantic_type\": \"\",\n        \"description\": \"\"\n      }\n    }\n  ]\n}",
       "type": "dataframe",
       "variable_name": "data"
      },
      "text/html": [
       "\n",
       "  <div id=\"df-4187ce61-87ef-430b-a55f-ba897f077346\" class=\"colab-df-container\">\n",
       "    <div>\n",
       "<style scoped>\n",
       "    .dataframe tbody tr th:only-of-type {\n",
       "        vertical-align: middle;\n",
       "    }\n",
       "\n",
       "    .dataframe tbody tr th {\n",
       "        vertical-align: top;\n",
       "    }\n",
       "\n",
       "    .dataframe thead th {\n",
       "        text-align: right;\n",
       "    }\n",
       "</style>\n",
       "<table border=\"1\" class=\"dataframe\">\n",
       "  <thead>\n",
       "    <tr style=\"text-align: right;\">\n",
       "      <th></th>\n",
       "      <th>Position</th>\n",
       "      <th>Level</th>\n",
       "      <th>Salary</th>\n",
       "    </tr>\n",
       "  </thead>\n",
       "  <tbody>\n",
       "    <tr>\n",
       "      <th>0</th>\n",
       "      <td>NaN</td>\n",
       "      <td>1</td>\n",
       "      <td>45000</td>\n",
       "    </tr>\n",
       "    <tr>\n",
       "      <th>1</th>\n",
       "      <td>NaN</td>\n",
       "      <td>2</td>\n",
       "      <td>50000</td>\n",
       "    </tr>\n",
       "    <tr>\n",
       "      <th>2</th>\n",
       "      <td>NaN</td>\n",
       "      <td>3</td>\n",
       "      <td>60000</td>\n",
       "    </tr>\n",
       "    <tr>\n",
       "      <th>3</th>\n",
       "      <td>NaN</td>\n",
       "      <td>4</td>\n",
       "      <td>80000</td>\n",
       "    </tr>\n",
       "    <tr>\n",
       "      <th>4</th>\n",
       "      <td>NaN</td>\n",
       "      <td>5</td>\n",
       "      <td>110000</td>\n",
       "    </tr>\n",
       "    <tr>\n",
       "      <th>5</th>\n",
       "      <td>NaN</td>\n",
       "      <td>6</td>\n",
       "      <td>150000</td>\n",
       "    </tr>\n",
       "    <tr>\n",
       "      <th>6</th>\n",
       "      <td>NaN</td>\n",
       "      <td>7</td>\n",
       "      <td>200000</td>\n",
       "    </tr>\n",
       "    <tr>\n",
       "      <th>7</th>\n",
       "      <td>NaN</td>\n",
       "      <td>8</td>\n",
       "      <td>220000</td>\n",
       "    </tr>\n",
       "    <tr>\n",
       "      <th>8</th>\n",
       "      <td>NaN</td>\n",
       "      <td>9</td>\n",
       "      <td>250000</td>\n",
       "    </tr>\n",
       "  </tbody>\n",
       "</table>\n",
       "</div>\n",
       "    <div class=\"colab-df-buttons\">\n",
       "\n",
       "  <div class=\"colab-df-container\">\n",
       "    <button class=\"colab-df-convert\" onclick=\"convertToInteractive('df-4187ce61-87ef-430b-a55f-ba897f077346')\"\n",
       "            title=\"Convert this dataframe to an interactive table.\"\n",
       "            style=\"display:none;\">\n",
       "\n",
       "  <svg xmlns=\"http://www.w3.org/2000/svg\" height=\"24px\" viewBox=\"0 -960 960 960\">\n",
       "    <path d=\"M120-120v-720h720v720H120Zm60-500h600v-160H180v160Zm220 220h160v-160H400v160Zm0 220h160v-160H400v160ZM180-400h160v-160H180v160Zm440 0h160v-160H620v160ZM180-180h160v-160H180v160Zm440 0h160v-160H620v160Z\"/>\n",
       "  </svg>\n",
       "    </button>\n",
       "\n",
       "  <style>\n",
       "    .colab-df-container {\n",
       "      display:flex;\n",
       "      gap: 12px;\n",
       "    }\n",
       "\n",
       "    .colab-df-convert {\n",
       "      background-color: #E8F0FE;\n",
       "      border: none;\n",
       "      border-radius: 50%;\n",
       "      cursor: pointer;\n",
       "      display: none;\n",
       "      fill: #1967D2;\n",
       "      height: 32px;\n",
       "      padding: 0 0 0 0;\n",
       "      width: 32px;\n",
       "    }\n",
       "\n",
       "    .colab-df-convert:hover {\n",
       "      background-color: #E2EBFA;\n",
       "      box-shadow: 0px 1px 2px rgba(60, 64, 67, 0.3), 0px 1px 3px 1px rgba(60, 64, 67, 0.15);\n",
       "      fill: #174EA6;\n",
       "    }\n",
       "\n",
       "    .colab-df-buttons div {\n",
       "      margin-bottom: 4px;\n",
       "    }\n",
       "\n",
       "    [theme=dark] .colab-df-convert {\n",
       "      background-color: #3B4455;\n",
       "      fill: #D2E3FC;\n",
       "    }\n",
       "\n",
       "    [theme=dark] .colab-df-convert:hover {\n",
       "      background-color: #434B5C;\n",
       "      box-shadow: 0px 1px 3px 1px rgba(0, 0, 0, 0.15);\n",
       "      filter: drop-shadow(0px 1px 2px rgba(0, 0, 0, 0.3));\n",
       "      fill: #FFFFFF;\n",
       "    }\n",
       "  </style>\n",
       "\n",
       "    <script>\n",
       "      const buttonEl =\n",
       "        document.querySelector('#df-4187ce61-87ef-430b-a55f-ba897f077346 button.colab-df-convert');\n",
       "      buttonEl.style.display =\n",
       "        google.colab.kernel.accessAllowed ? 'block' : 'none';\n",
       "\n",
       "      async function convertToInteractive(key) {\n",
       "        const element = document.querySelector('#df-4187ce61-87ef-430b-a55f-ba897f077346');\n",
       "        const dataTable =\n",
       "          await google.colab.kernel.invokeFunction('convertToInteractive',\n",
       "                                                    [key], {});\n",
       "        if (!dataTable) return;\n",
       "\n",
       "        const docLinkHtml = 'Like what you see? Visit the ' +\n",
       "          '<a target=\"_blank\" href=https://colab.research.google.com/notebooks/data_table.ipynb>data table notebook</a>'\n",
       "          + ' to learn more about interactive tables.';\n",
       "        element.innerHTML = '';\n",
       "        dataTable['output_type'] = 'display_data';\n",
       "        await google.colab.output.renderOutput(dataTable, element);\n",
       "        const docLink = document.createElement('div');\n",
       "        docLink.innerHTML = docLinkHtml;\n",
       "        element.appendChild(docLink);\n",
       "      }\n",
       "    </script>\n",
       "  </div>\n",
       "\n",
       "\n",
       "<div id=\"df-84d48d8b-b6b7-456e-9c8c-c609497aeff5\">\n",
       "  <button class=\"colab-df-quickchart\" onclick=\"quickchart('df-84d48d8b-b6b7-456e-9c8c-c609497aeff5')\"\n",
       "            title=\"Suggest charts\"\n",
       "            style=\"display:none;\">\n",
       "\n",
       "<svg xmlns=\"http://www.w3.org/2000/svg\" height=\"24px\"viewBox=\"0 0 24 24\"\n",
       "     width=\"24px\">\n",
       "    <g>\n",
       "        <path d=\"M19 3H5c-1.1 0-2 .9-2 2v14c0 1.1.9 2 2 2h14c1.1 0 2-.9 2-2V5c0-1.1-.9-2-2-2zM9 17H7v-7h2v7zm4 0h-2V7h2v10zm4 0h-2v-4h2v4z\"/>\n",
       "    </g>\n",
       "</svg>\n",
       "  </button>\n",
       "\n",
       "<style>\n",
       "  .colab-df-quickchart {\n",
       "      --bg-color: #E8F0FE;\n",
       "      --fill-color: #1967D2;\n",
       "      --hover-bg-color: #E2EBFA;\n",
       "      --hover-fill-color: #174EA6;\n",
       "      --disabled-fill-color: #AAA;\n",
       "      --disabled-bg-color: #DDD;\n",
       "  }\n",
       "\n",
       "  [theme=dark] .colab-df-quickchart {\n",
       "      --bg-color: #3B4455;\n",
       "      --fill-color: #D2E3FC;\n",
       "      --hover-bg-color: #434B5C;\n",
       "      --hover-fill-color: #FFFFFF;\n",
       "      --disabled-bg-color: #3B4455;\n",
       "      --disabled-fill-color: #666;\n",
       "  }\n",
       "\n",
       "  .colab-df-quickchart {\n",
       "    background-color: var(--bg-color);\n",
       "    border: none;\n",
       "    border-radius: 50%;\n",
       "    cursor: pointer;\n",
       "    display: none;\n",
       "    fill: var(--fill-color);\n",
       "    height: 32px;\n",
       "    padding: 0;\n",
       "    width: 32px;\n",
       "  }\n",
       "\n",
       "  .colab-df-quickchart:hover {\n",
       "    background-color: var(--hover-bg-color);\n",
       "    box-shadow: 0 1px 2px rgba(60, 64, 67, 0.3), 0 1px 3px 1px rgba(60, 64, 67, 0.15);\n",
       "    fill: var(--button-hover-fill-color);\n",
       "  }\n",
       "\n",
       "  .colab-df-quickchart-complete:disabled,\n",
       "  .colab-df-quickchart-complete:disabled:hover {\n",
       "    background-color: var(--disabled-bg-color);\n",
       "    fill: var(--disabled-fill-color);\n",
       "    box-shadow: none;\n",
       "  }\n",
       "\n",
       "  .colab-df-spinner {\n",
       "    border: 2px solid var(--fill-color);\n",
       "    border-color: transparent;\n",
       "    border-bottom-color: var(--fill-color);\n",
       "    animation:\n",
       "      spin 1s steps(1) infinite;\n",
       "  }\n",
       "\n",
       "  @keyframes spin {\n",
       "    0% {\n",
       "      border-color: transparent;\n",
       "      border-bottom-color: var(--fill-color);\n",
       "      border-left-color: var(--fill-color);\n",
       "    }\n",
       "    20% {\n",
       "      border-color: transparent;\n",
       "      border-left-color: var(--fill-color);\n",
       "      border-top-color: var(--fill-color);\n",
       "    }\n",
       "    30% {\n",
       "      border-color: transparent;\n",
       "      border-left-color: var(--fill-color);\n",
       "      border-top-color: var(--fill-color);\n",
       "      border-right-color: var(--fill-color);\n",
       "    }\n",
       "    40% {\n",
       "      border-color: transparent;\n",
       "      border-right-color: var(--fill-color);\n",
       "      border-top-color: var(--fill-color);\n",
       "    }\n",
       "    60% {\n",
       "      border-color: transparent;\n",
       "      border-right-color: var(--fill-color);\n",
       "    }\n",
       "    80% {\n",
       "      border-color: transparent;\n",
       "      border-right-color: var(--fill-color);\n",
       "      border-bottom-color: var(--fill-color);\n",
       "    }\n",
       "    90% {\n",
       "      border-color: transparent;\n",
       "      border-bottom-color: var(--fill-color);\n",
       "    }\n",
       "  }\n",
       "</style>\n",
       "\n",
       "  <script>\n",
       "    async function quickchart(key) {\n",
       "      const quickchartButtonEl =\n",
       "        document.querySelector('#' + key + ' button');\n",
       "      quickchartButtonEl.disabled = true;  // To prevent multiple clicks.\n",
       "      quickchartButtonEl.classList.add('colab-df-spinner');\n",
       "      try {\n",
       "        const charts = await google.colab.kernel.invokeFunction(\n",
       "            'suggestCharts', [key], {});\n",
       "      } catch (error) {\n",
       "        console.error('Error during call to suggestCharts:', error);\n",
       "      }\n",
       "      quickchartButtonEl.classList.remove('colab-df-spinner');\n",
       "      quickchartButtonEl.classList.add('colab-df-quickchart-complete');\n",
       "    }\n",
       "    (() => {\n",
       "      let quickchartButtonEl =\n",
       "        document.querySelector('#df-84d48d8b-b6b7-456e-9c8c-c609497aeff5 button');\n",
       "      quickchartButtonEl.style.display =\n",
       "        google.colab.kernel.accessAllowed ? 'block' : 'none';\n",
       "    })();\n",
       "  </script>\n",
       "</div>\n",
       "\n",
       "  <div id=\"id_004f8715-926e-4326-bea4-4649a701f1f5\">\n",
       "    <style>\n",
       "      .colab-df-generate {\n",
       "        background-color: #E8F0FE;\n",
       "        border: none;\n",
       "        border-radius: 50%;\n",
       "        cursor: pointer;\n",
       "        display: none;\n",
       "        fill: #1967D2;\n",
       "        height: 32px;\n",
       "        padding: 0 0 0 0;\n",
       "        width: 32px;\n",
       "      }\n",
       "\n",
       "      .colab-df-generate:hover {\n",
       "        background-color: #E2EBFA;\n",
       "        box-shadow: 0px 1px 2px rgba(60, 64, 67, 0.3), 0px 1px 3px 1px rgba(60, 64, 67, 0.15);\n",
       "        fill: #174EA6;\n",
       "      }\n",
       "\n",
       "      [theme=dark] .colab-df-generate {\n",
       "        background-color: #3B4455;\n",
       "        fill: #D2E3FC;\n",
       "      }\n",
       "\n",
       "      [theme=dark] .colab-df-generate:hover {\n",
       "        background-color: #434B5C;\n",
       "        box-shadow: 0px 1px 3px 1px rgba(0, 0, 0, 0.15);\n",
       "        filter: drop-shadow(0px 1px 2px rgba(0, 0, 0, 0.3));\n",
       "        fill: #FFFFFF;\n",
       "      }\n",
       "    </style>\n",
       "    <button class=\"colab-df-generate\" onclick=\"generateWithVariable('data')\"\n",
       "            title=\"Generate code using this dataframe.\"\n",
       "            style=\"display:none;\">\n",
       "\n",
       "  <svg xmlns=\"http://www.w3.org/2000/svg\" height=\"24px\"viewBox=\"0 0 24 24\"\n",
       "       width=\"24px\">\n",
       "    <path d=\"M7,19H8.4L18.45,9,17,7.55,7,17.6ZM5,21V16.75L18.45,3.32a2,2,0,0,1,2.83,0l1.4,1.43a1.91,1.91,0,0,1,.58,1.4,1.91,1.91,0,0,1-.58,1.4L9.25,21ZM18.45,9,17,7.55Zm-12,3A5.31,5.31,0,0,0,4.9,8.1,5.31,5.31,0,0,0,1,6.5,5.31,5.31,0,0,0,4.9,4.9,5.31,5.31,0,0,0,6.5,1,5.31,5.31,0,0,0,8.1,4.9,5.31,5.31,0,0,0,12,6.5,5.46,5.46,0,0,0,6.5,12Z\"/>\n",
       "  </svg>\n",
       "    </button>\n",
       "    <script>\n",
       "      (() => {\n",
       "      const buttonEl =\n",
       "        document.querySelector('#id_004f8715-926e-4326-bea4-4649a701f1f5 button.colab-df-generate');\n",
       "      buttonEl.style.display =\n",
       "        google.colab.kernel.accessAllowed ? 'block' : 'none';\n",
       "\n",
       "      buttonEl.onclick = () => {\n",
       "        google.colab.notebook.generateWithVariable('data');\n",
       "      }\n",
       "      })();\n",
       "    </script>\n",
       "  </div>\n",
       "\n",
       "    </div>\n",
       "  </div>\n"
      ],
      "text/plain": [
       "   Position  Level  Salary\n",
       "0       NaN      1   45000\n",
       "1       NaN      2   50000\n",
       "2       NaN      3   60000\n",
       "3       NaN      4   80000\n",
       "4       NaN      5  110000\n",
       "5       NaN      6  150000\n",
       "6       NaN      7  200000\n",
       "7       NaN      8  220000\n",
       "8       NaN      9  250000"
      ]
     },
     "execution_count": 4,
     "metadata": {},
     "output_type": "execute_result"
    }
   ],
   "source": [
    "data"
   ]
  },
  {
   "cell_type": "code",
   "execution_count": null,
   "metadata": {
    "id": "h7LjZ7MGKYcP"
   },
   "outputs": [],
   "source": [
    "x = torch.Tensor(data.values[:,1]).unsqueeze(dim=1)\n",
    "y = torch.Tensor(data.values[:,2]).unsqueeze(dim=1)"
   ]
  },
  {
   "cell_type": "code",
   "execution_count": null,
   "metadata": {
    "colab": {
     "base_uri": "https://localhost:8080/"
    },
    "id": "SOxVtMTMK3h1",
    "outputId": "6e6c4ff9-aa20-4d2f-fda0-461620975ccd"
   },
   "outputs": [
    {
     "data": {
      "text/plain": [
       "(tensor([[1.],\n",
       "         [2.],\n",
       "         [3.],\n",
       "         [4.],\n",
       "         [5.],\n",
       "         [6.],\n",
       "         [7.],\n",
       "         [8.],\n",
       "         [9.]]),\n",
       " tensor([[ 45000.],\n",
       "         [ 50000.],\n",
       "         [ 60000.],\n",
       "         [ 80000.],\n",
       "         [110000.],\n",
       "         [150000.],\n",
       "         [200000.],\n",
       "         [220000.],\n",
       "         [250000.]]))"
      ]
     },
     "execution_count": 25,
     "metadata": {},
     "output_type": "execute_result"
    }
   ],
   "source": [
    "x,y"
   ]
  },
  {
   "cell_type": "code",
   "execution_count": null,
   "metadata": {
    "colab": {
     "base_uri": "https://localhost:8080/",
     "height": 472
    },
    "id": "T0aW3AtNK4Au",
    "outputId": "fcfa82b3-b554-4bf5-a633-6d7dfcc1c845"
   },
   "outputs": [
    {
     "data": {
      "image/png": "[encoded data removed]",
      "text/plain": [
       "<Figure size 640x480 with 1 Axes>"
      ]
     },
     "metadata": {},
     "output_type": "display_data"
    }
   ],
   "source": [
    "import matplotlib.pyplot as plt\n",
    "\n",
    "\n",
    "# Plot Position Level vs. Salary\n",
    "plt.plot(x, y)\n",
    "plt.xlabel('Position Level')\n",
    "plt.ylabel('Salary')\n",
    "plt.title('Position Level vs Salary')\n",
    "plt.show()\n"
   ]
  },
  {
   "cell_type": "code",
   "execution_count": null,
   "metadata": {
    "colab": {
     "base_uri": "https://localhost:8080/"
    },
    "id": "91ITNmnwLAZP",
    "outputId": "63e5dbce-0798-43e8-ce20-cadf9b1053ac"
   },
   "outputs": [
    {
     "data": {
      "text/plain": [
       "(7, 2, 7, 2)"
      ]
     },
     "execution_count": 7,
     "metadata": {},
     "output_type": "execute_result"
    }
   ],
   "source": [
    "from sklearn.model_selection import train_test_split\n",
    "\n",
    "# Split the data into training and test sets (80% training, 20% testing)\n",
    "x_train, x_test, y_train, y_test = train_test_split(x, y, test_size=0.2)\n",
    "\n",
    "# Print the lengths of the splits\n",
    "len(x_train), len(x_test), len(y_train), len(y_test)\n"
   ]
  },
  {
   "cell_type": "code",
   "execution_count": null,
   "metadata": {
    "colab": {
     "base_uri": "https://localhost:8080/"
    },
    "id": "VaMDN2NqZz2n",
    "outputId": "6bf9b9a7-1dea-483d-d8b3-2f556f7b9250"
   },
   "outputs": [
    {
     "data": {
      "text/plain": [
       "Sequential(\n",
       "  (0): Linear(in_features=1, out_features=1, bias=True)\n",
       "  (1): ReLU()\n",
       "  (2): Linear(in_features=1, out_features=1, bias=True)\n",
       ")"
      ]
     },
     "execution_count": 8,
     "metadata": {},
     "output_type": "execute_result"
    }
   ],
   "source": [
    "from torch import nn\n",
    "\n",
    "# Define a simple neural network model\n",
    "model = nn.Sequential(\n",
    "    nn.Linear(in_features=1, out_features=1),  # First linear layer\n",
    "    nn.ReLU(),  # ReLU activation\n",
    "    nn.Linear(in_features=1, out_features=1),  # Second linear layer\n",
    ")\n",
    "\n",
    "# Print the model to inspect it\n",
    "model\n"
   ]
  },
  {
   "cell_type": "code",
   "execution_count": null,
   "metadata": {
    "id": "q6dnvK3OakDT"
   },
   "outputs": [],
   "source": [
    "# Define the loss function and optimizer\n",
    "loss_fn = nn.L1Loss()  # Mean Absolute Error\n",
    "optimizer = torch.optim.SGD(params=model.parameters(), lr=0.01)  # SGD optimizer\n",
    "\n",
    "# Define the number of epochs\n",
    "epochs = 1000\n"
   ]
  },
  {
   "cell_type": "code",
   "execution_count": null,
   "metadata": {
    "colab": {
     "base_uri": "https://localhost:8080/"
    },
    "id": "_agylxYda5Qr",
    "outputId": "463fc1a1-c195-4a95-8ff8-a00607323dfd"
   },
   "outputs": [
    {
     "name": "stdout",
     "output_type": "stream",
     "text": [
      "Epoch: 0 | Loss: 148570.734375 | Test loss: 62499.2890625\n",
      "Epoch: 10 | Loss: 148570.625 | Test loss: 62499.1875\n",
      "Epoch: 20 | Loss: 148570.53125 | Test loss: 62499.0859375\n",
      "Epoch: 30 | Loss: 148570.421875 | Test loss: 62498.984375\n",
      "Epoch: 40 | Loss: 148570.3125 | Test loss: 62498.8828125\n",
      "Epoch: 50 | Loss: 148570.234375 | Test loss: 62498.7890625\n",
      "Epoch: 60 | Loss: 148570.125 | Test loss: 62498.6875\n",
      "Epoch: 70 | Loss: 148570.03125 | Test loss: 62498.5859375\n",
      "Epoch: 80 | Loss: 148569.921875 | Test loss: 62498.484375\n",
      "Epoch: 90 | Loss: 148569.8125 | Test loss: 62498.3828125\n",
      "Epoch: 100 | Loss: 148569.734375 | Test loss: 62498.2890625\n",
      "Epoch: 110 | Loss: 148569.625 | Test loss: 62498.1875\n",
      "Epoch: 120 | Loss: 148569.53125 | Test loss: 62498.0859375\n",
      "Epoch: 130 | Loss: 148569.421875 | Test loss: 62497.984375\n",
      "Epoch: 140 | Loss: 148569.3125 | Test loss: 62497.8828125\n",
      "Epoch: 150 | Loss: 148569.234375 | Test loss: 62497.7890625\n",
      "Epoch: 160 | Loss: 148569.125 | Test loss: 62497.6875\n",
      "Epoch: 170 | Loss: 148569.03125 | Test loss: 62497.5859375\n",
      "Epoch: 180 | Loss: 148568.921875 | Test loss: 62497.484375\n",
      "Epoch: 190 | Loss: 148568.8125 | Test loss: 62497.3828125\n",
      "Epoch: 200 | Loss: 148568.734375 | Test loss: 62497.2890625\n",
      "Epoch: 210 | Loss: 148568.625 | Test loss: 62497.1875\n",
      "Epoch: 220 | Loss: 148568.53125 | Test loss: 62497.0859375\n",
      "Epoch: 230 | Loss: 148568.421875 | Test loss: 62496.984375\n",
      "Epoch: 240 | Loss: 148568.3125 | Test loss: 62496.8828125\n",
      "Epoch: 250 | Loss: 148568.234375 | Test loss: 62496.7890625\n",
      "Epoch: 260 | Loss: 148568.125 | Test loss: 62496.6875\n",
      "Epoch: 270 | Loss: 148568.03125 | Test loss: 62496.5859375\n",
      "Epoch: 280 | Loss: 148567.921875 | Test loss: 62496.484375\n",
      "Epoch: 290 | Loss: 148567.8125 | Test loss: 62496.3828125\n",
      "Epoch: 300 | Loss: 148567.734375 | Test loss: 62496.2890625\n",
      "Epoch: 310 | Loss: 148567.625 | Test loss: 62496.1875\n",
      "Epoch: 320 | Loss: 148567.53125 | Test loss: 62496.0859375\n",
      "Epoch: 330 | Loss: 148567.421875 | Test loss: 62495.984375\n",
      "Epoch: 340 | Loss: 148567.3125 | Test loss: 62495.8828125\n",
      "Epoch: 350 | Loss: 148567.234375 | Test loss: 62495.7890625\n",
      "Epoch: 360 | Loss: 148567.125 | Test loss: 62495.6875\n",
      "Epoch: 370 | Loss: 148567.03125 | Test loss: 62495.5859375\n",
      "Epoch: 380 | Loss: 148566.921875 | Test loss: 62495.484375\n",
      "Epoch: 390 | Loss: 148566.8125 | Test loss: 62495.3828125\n",
      "Epoch: 400 | Loss: 148566.734375 | Test loss: 62495.2890625\n",
      "Epoch: 410 | Loss: 148566.625 | Test loss: 62495.1875\n",
      "Epoch: 420 | Loss: 148566.53125 | Test loss: 62495.0859375\n",
      "Epoch: 430 | Loss: 148566.421875 | Test loss: 62494.984375\n",
      "Epoch: 440 | Loss: 148566.3125 | Test loss: 62494.8828125\n",
      "Epoch: 450 | Loss: 148566.234375 | Test loss: 62494.7890625\n",
      "Epoch: 460 | Loss: 148566.125 | Test loss: 62494.6875\n",
      "Epoch: 470 | Loss: 148566.03125 | Test loss: 62494.5859375\n",
      "Epoch: 480 | Loss: 148565.921875 | Test loss: 62494.484375\n",
      "Epoch: 490 | Loss: 148565.8125 | Test loss: 62494.3828125\n",
      "Epoch: 500 | Loss: 148565.734375 | Test loss: 62494.2890625\n",
      "Epoch: 510 | Loss: 148565.625 | Test loss: 62494.1875\n",
      "Epoch: 520 | Loss: 148565.53125 | Test loss: 62494.0859375\n",
      "Epoch: 530 | Loss: 148565.421875 | Test loss: 62493.984375\n",
      "Epoch: 540 | Loss: 148565.3125 | Test loss: 62493.8828125\n",
      "Epoch: 550 | Loss: 148565.234375 | Test loss: 62493.7890625\n",
      "Epoch: 560 | Loss: 148565.125 | Test loss: 62493.6875\n",
      "Epoch: 570 | Loss: 148565.03125 | Test loss: 62493.5859375\n",
      "Epoch: 580 | Loss: 148564.921875 | Test loss: 62493.484375\n",
      "Epoch: 590 | Loss: 148564.8125 | Test loss: 62493.3828125\n",
      "Epoch: 600 | Loss: 148564.734375 | Test loss: 62493.2890625\n",
      "Epoch: 610 | Loss: 148564.625 | Test loss: 62493.1875\n",
      "Epoch: 620 | Loss: 148564.53125 | Test loss: 62493.0859375\n",
      "Epoch: 630 | Loss: 148564.421875 | Test loss: 62492.984375\n",
      "Epoch: 640 | Loss: 148564.3125 | Test loss: 62492.8828125\n",
      "Epoch: 650 | Loss: 148564.234375 | Test loss: 62492.7890625\n",
      "Epoch: 660 | Loss: 148564.125 | Test loss: 62492.6875\n",
      "Epoch: 670 | Loss: 148564.03125 | Test loss: 62492.5859375\n",
      "Epoch: 680 | Loss: 148563.921875 | Test loss: 62492.484375\n",
      "Epoch: 690 | Loss: 148563.8125 | Test loss: 62492.3828125\n",
      "Epoch: 700 | Loss: 148563.734375 | Test loss: 62492.2890625\n",
      "Epoch: 710 | Loss: 148563.625 | Test loss: 62492.1875\n",
      "Epoch: 720 | Loss: 148563.53125 | Test loss: 62492.0859375\n",
      "Epoch: 730 | Loss: 148563.421875 | Test loss: 62491.984375\n",
      "Epoch: 740 | Loss: 148563.3125 | Test loss: 62491.8828125\n",
      "Epoch: 750 | Loss: 148563.234375 | Test loss: 62491.7890625\n",
      "Epoch: 760 | Loss: 148563.125 | Test loss: 62491.6875\n",
      "Epoch: 770 | Loss: 148563.03125 | Test loss: 62491.5859375\n",
      "Epoch: 780 | Loss: 148562.921875 | Test loss: 62491.484375\n",
      "Epoch: 790 | Loss: 148562.8125 | Test loss: 62491.3828125\n",
      "Epoch: 800 | Loss: 148562.734375 | Test loss: 62491.2890625\n",
      "Epoch: 810 | Loss: 148562.625 | Test loss: 62491.1875\n",
      "Epoch: 820 | Loss: 148562.53125 | Test loss: 62491.0859375\n",
      "Epoch: 830 | Loss: 148562.421875 | Test loss: 62490.984375\n",
      "Epoch: 840 | Loss: 148562.3125 | Test loss: 62490.8828125\n",
      "Epoch: 850 | Loss: 148562.234375 | Test loss: 62490.7890625\n",
      "Epoch: 860 | Loss: 148562.125 | Test loss: 62490.6875\n",
      "Epoch: 870 | Loss: 148562.03125 | Test loss: 62490.5859375\n",
      "Epoch: 880 | Loss: 148561.921875 | Test loss: 62490.484375\n",
      "Epoch: 890 | Loss: 148561.8125 | Test loss: 62490.3828125\n",
      "Epoch: 900 | Loss: 148561.734375 | Test loss: 62490.2890625\n",
      "Epoch: 910 | Loss: 148561.625 | Test loss: 62490.1875\n",
      "Epoch: 920 | Loss: 148561.53125 | Test loss: 62490.0859375\n",
      "Epoch: 930 | Loss: 148561.421875 | Test loss: 62489.984375\n",
      "Epoch: 940 | Loss: 148561.3125 | Test loss: 62489.8828125\n",
      "Epoch: 950 | Loss: 148561.234375 | Test loss: 62489.7890625\n",
      "Epoch: 960 | Loss: 148561.125 | Test loss: 62489.6875\n",
      "Epoch: 970 | Loss: 148561.03125 | Test loss: 62489.5859375\n",
      "Epoch: 980 | Loss: 148560.921875 | Test loss: 62489.484375\n",
      "Epoch: 990 | Loss: 148560.8125 | Test loss: 62489.3828125\n"
     ]
    }
   ],
   "source": [
    "# Training loop\n",
    "for epoch in range(epochs):\n",
    "    model.train()  # Set the model to training mode\n",
    "\n",
    "    # Forward pass: compute predicted y by passing x to the model\n",
    "    y_pred = model(x_train)\n",
    "\n",
    "    # Compute loss\n",
    "    loss = loss_fn(y_pred, y_train)\n",
    "\n",
    "    # Zero the gradients, perform backpropagation, and update weights\n",
    "    optimizer.zero_grad()\n",
    "    loss.backward()\n",
    "    optimizer.step()\n",
    "\n",
    "    # Test the model's performance on the test set every 10 epochs\n",
    "    model.eval()\n",
    "    with torch.inference_mode():\n",
    "        y_pred = model(x_test)\n",
    "        test_loss = loss_fn(y_pred, y_test)\n",
    "\n",
    "    if epoch % 10 == 0:\n",
    "        print(f\"Epoch: {epoch} | Loss: {loss.item()} | Test loss: {test_loss.item()}\")\n"
   ]
  },
  {
   "cell_type": "code",
   "execution_count": null,
   "metadata": {
    "colab": {
     "base_uri": "https://localhost:8080/",
     "height": 472
    },
    "id": "Tz6LQf73b4Yg",
    "outputId": "7906f7a8-5b25-4ac6-bbb1-525d9b57310b"
   },
   "outputs": [
    {
     "data": {
      "image/png": "[encoded data removed]",
      "text/plain": [
       "<Figure size 640x480 with 1 Axes>"
      ]
     },
     "metadata": {},
     "output_type": "display_data"
    }
   ],
   "source": [
    "# Plot the model's predictions along with the original data\n",
    "model.eval()\n",
    "with torch.inference_mode():\n",
    "    plt.plot(x, model(x), label='Model Predictions')\n",
    "    plt.plot(x, y, label='Actual Data', alpha=0.7)\n",
    "    plt.xlabel('Position Level')\n",
    "    plt.ylabel('Salary')\n",
    "    plt.title('Model Predictions vs Actual Data')\n",
    "    plt.legend()\n",
    "    plt.show()\n"
   ]
  },
  {
   "cell_type": "code",
   "execution_count": null,
   "metadata": {
    "id": "9-UFTA_xdhP4"
   },
   "outputs": [],
   "source": []
  },
  {
   "cell_type": "code",
   "execution_count": null,
   "metadata": {
    "id": "oPjIrElgT1M5"
   },
   "outputs": [],
   "source": []
  }
 ],
 "metadata": {
  "colab": {
   "provenance": []
  },
  "kernelspec": {
   "display_name": "Python 3 (ipykernel)",
   "language": "python",
   "name": "python3"
  },
  "language_info": {
   "codemirror_mode": {
    "name": "ipython",
    "version": 3
   },
   "file_extension": ".py",
   "mimetype": "text/x-python",
   "name": "python",
   "nbconvert_exporter": "python",
   "pygments_lexer": "ipython3",
   "version": "3.9.15"
  }
 },
 "nbformat": 4,
 "nbformat_minor": 1
}
