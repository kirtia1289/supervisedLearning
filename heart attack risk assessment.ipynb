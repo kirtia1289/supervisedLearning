{
 "cells": [
  {
   "cell_type": "markdown",
   "metadata": {
    "id": "8072f6b0"
   },
   "source": [
    "# Libraries"
   ]
  },
  {
   "cell_type": "code",
   "execution_count": 10,
   "metadata": {
    "execution": {
     "iopub.execute_input": "2025-04-28T06:35:42.34825Z",
     "iopub.status.busy": "2025-04-28T06:35:42.347566Z",
     "iopub.status.idle": "2025-04-28T06:35:42.353534Z",
     "shell.execute_reply": "2025-04-28T06:35:42.352584Z",
     "shell.execute_reply.started": "2025-04-28T06:35:42.348225Z"
    },
    "id": "92456d0a"
   },
   "outputs": [],
   "source": [
    "import pandas as pd\n",
    "import matplotlib.pyplot as plt\n",
    "import warnings\n",
    "import seaborn as sns\n",
    "warnings.filterwarnings(\"ignore\")\n",
    "\n",
    "from sklearn.preprocessing import LabelEncoder, StandardScaler\n",
    "from sklearn.model_selection import train_test_split\n",
    "from sklearn.linear_model import LogisticRegression\n",
    "from sklearn.ensemble import RandomForestClassifier, GradientBoostingClassifier\n",
    "from sklearn.tree import DecisionTreeClassifier\n",
    "from sklearn.naive_bayes import GaussianNB\n",
    "from sklearn.metrics import accuracy_score, precision_score, confusion_matrix, f1_score, recall_score"
   ]
  },
  {
   "cell_type": "code",
   "execution_count": 11,
   "metadata": {
    "execution": {
     "iopub.execute_input": "2025-04-28T06:35:42.579598Z",
     "iopub.status.busy": "2025-04-28T06:35:42.579284Z",
     "iopub.status.idle": "2025-04-28T06:35:42.589986Z",
     "shell.execute_reply": "2025-04-28T06:35:42.589115Z",
     "shell.execute_reply.started": "2025-04-28T06:35:42.579577Z"
    },
    "id": "38eb9a1f"
   },
   "outputs": [],
   "source": [
    "df  = pd.read_csv('Heart_Attack_Risk_Levels_Dataset.csv')"
   ]
  },
  {
   "cell_type": "code",
   "execution_count": 12,
   "metadata": {
    "colab": {
     "base_uri": "https://localhost:8080/",
     "height": 206
    },
    "execution": {
     "iopub.execute_input": "2025-04-28T06:35:42.829609Z",
     "iopub.status.busy": "2025-04-28T06:35:42.829314Z",
     "iopub.status.idle": "2025-04-28T06:35:42.843404Z",
     "shell.execute_reply": "2025-04-28T06:35:42.842424Z",
     "shell.execute_reply.started": "2025-04-28T06:35:42.829591Z"
    },
    "id": "05386b97",
    "outputId": "c78d9462-9cc0-40ee-ac05-5b54ee0c6f27"
   },
   "outputs": [
    {
     "data": {
      "text/html": [
       "<div>\n",
       "<style scoped>\n",
       "    .dataframe tbody tr th:only-of-type {\n",
       "        vertical-align: middle;\n",
       "    }\n",
       "\n",
       "    .dataframe tbody tr th {\n",
       "        vertical-align: top;\n",
       "    }\n",
       "\n",
       "    .dataframe thead th {\n",
       "        text-align: right;\n",
       "    }\n",
       "</style>\n",
       "<table border=\"1\" class=\"dataframe\">\n",
       "  <thead>\n",
       "    <tr style=\"text-align: right;\">\n",
       "      <th></th>\n",
       "      <th>Age</th>\n",
       "      <th>Gender</th>\n",
       "      <th>Heart rate</th>\n",
       "      <th>Systolic blood pressure</th>\n",
       "      <th>Diastolic blood pressure</th>\n",
       "      <th>Blood sugar</th>\n",
       "      <th>CK-MB</th>\n",
       "      <th>Troponin</th>\n",
       "      <th>Result</th>\n",
       "      <th>Risk_Level</th>\n",
       "      <th>Recommendation</th>\n",
       "    </tr>\n",
       "  </thead>\n",
       "  <tbody>\n",
       "    <tr>\n",
       "      <th>0</th>\n",
       "      <td>63</td>\n",
       "      <td>1</td>\n",
       "      <td>66</td>\n",
       "      <td>160</td>\n",
       "      <td>83</td>\n",
       "      <td>160.0</td>\n",
       "      <td>1.80</td>\n",
       "      <td>0.012</td>\n",
       "      <td>negative</td>\n",
       "      <td>Moderate</td>\n",
       "      <td>Monitor closely and consult doctor</td>\n",
       "    </tr>\n",
       "    <tr>\n",
       "      <th>1</th>\n",
       "      <td>20</td>\n",
       "      <td>1</td>\n",
       "      <td>94</td>\n",
       "      <td>98</td>\n",
       "      <td>46</td>\n",
       "      <td>296.0</td>\n",
       "      <td>6.75</td>\n",
       "      <td>1.060</td>\n",
       "      <td>positive</td>\n",
       "      <td>High</td>\n",
       "      <td>Immediate medical attention</td>\n",
       "    </tr>\n",
       "    <tr>\n",
       "      <th>2</th>\n",
       "      <td>56</td>\n",
       "      <td>1</td>\n",
       "      <td>64</td>\n",
       "      <td>160</td>\n",
       "      <td>77</td>\n",
       "      <td>270.0</td>\n",
       "      <td>1.99</td>\n",
       "      <td>0.003</td>\n",
       "      <td>negative</td>\n",
       "      <td>Moderate</td>\n",
       "      <td>Monitor closely and consult doctor</td>\n",
       "    </tr>\n",
       "    <tr>\n",
       "      <th>3</th>\n",
       "      <td>66</td>\n",
       "      <td>1</td>\n",
       "      <td>70</td>\n",
       "      <td>120</td>\n",
       "      <td>55</td>\n",
       "      <td>270.0</td>\n",
       "      <td>13.87</td>\n",
       "      <td>0.122</td>\n",
       "      <td>positive</td>\n",
       "      <td>High</td>\n",
       "      <td>Immediate medical attention</td>\n",
       "    </tr>\n",
       "    <tr>\n",
       "      <th>4</th>\n",
       "      <td>54</td>\n",
       "      <td>1</td>\n",
       "      <td>64</td>\n",
       "      <td>112</td>\n",
       "      <td>65</td>\n",
       "      <td>300.0</td>\n",
       "      <td>1.08</td>\n",
       "      <td>0.003</td>\n",
       "      <td>negative</td>\n",
       "      <td>Moderate</td>\n",
       "      <td>Monitor closely and consult doctor</td>\n",
       "    </tr>\n",
       "  </tbody>\n",
       "</table>\n",
       "</div>"
      ],
      "text/plain": [
       "   Age  Gender  Heart rate  Systolic blood pressure  Diastolic blood pressure  \\\n",
       "0   63       1          66                      160                        83   \n",
       "1   20       1          94                       98                        46   \n",
       "2   56       1          64                      160                        77   \n",
       "3   66       1          70                      120                        55   \n",
       "4   54       1          64                      112                        65   \n",
       "\n",
       "   Blood sugar  CK-MB  Troponin    Result Risk_Level  \\\n",
       "0        160.0   1.80     0.012  negative   Moderate   \n",
       "1        296.0   6.75     1.060  positive       High   \n",
       "2        270.0   1.99     0.003  negative   Moderate   \n",
       "3        270.0  13.87     0.122  positive       High   \n",
       "4        300.0   1.08     0.003  negative   Moderate   \n",
       "\n",
       "                       Recommendation  \n",
       "0  Monitor closely and consult doctor  \n",
       "1         Immediate medical attention  \n",
       "2  Monitor closely and consult doctor  \n",
       "3         Immediate medical attention  \n",
       "4  Monitor closely and consult doctor  "
      ]
     },
     "execution_count": 12,
     "metadata": {},
     "output_type": "execute_result"
    }
   ],
   "source": [
    "df.head()"
   ]
  },
  {
   "cell_type": "code",
   "execution_count": 13,
   "metadata": {
    "colab": {
     "base_uri": "https://localhost:8080/"
    },
    "execution": {
     "iopub.execute_input": "2025-04-28T06:35:43.107072Z",
     "iopub.status.busy": "2025-04-28T06:35:43.106729Z",
     "iopub.status.idle": "2025-04-28T06:35:43.112823Z",
     "shell.execute_reply": "2025-04-28T06:35:43.112013Z",
     "shell.execute_reply.started": "2025-04-28T06:35:43.107049Z"
    },
    "id": "deedba22",
    "outputId": "647f5d68-cd89-4087-82df-b9a683ea5c3c"
   },
   "outputs": [
    {
     "data": {
      "text/plain": [
       "(1319, 11)"
      ]
     },
     "execution_count": 13,
     "metadata": {},
     "output_type": "execute_result"
    }
   ],
   "source": [
    "df.shape"
   ]
  },
  {
   "cell_type": "markdown",
   "metadata": {
    "id": "a3969427"
   },
   "source": [
    " Check Duplicates values 🎈"
   ]
  },
  {
   "cell_type": "code",
   "execution_count": 14,
   "metadata": {
    "colab": {
     "base_uri": "https://localhost:8080/"
    },
    "execution": {
     "iopub.execute_input": "2025-04-28T06:35:43.659798Z",
     "iopub.status.busy": "2025-04-28T06:35:43.658997Z",
     "iopub.status.idle": "2025-04-28T06:35:43.670246Z",
     "shell.execute_reply": "2025-04-28T06:35:43.669243Z",
     "shell.execute_reply.started": "2025-04-28T06:35:43.659758Z"
    },
    "id": "199197db",
    "outputId": "9f50b8e8-7c55-47b2-c59e-46703b946933"
   },
   "outputs": [
    {
     "data": {
      "text/plain": [
       "0"
      ]
     },
     "execution_count": 14,
     "metadata": {},
     "output_type": "execute_result"
    }
   ],
   "source": [
    "df.duplicated().sum()"
   ]
  },
  {
   "cell_type": "markdown",
   "metadata": {
    "id": "6ec648f6"
   },
   "source": [
    " Check Null values 🎈"
   ]
  },
  {
   "cell_type": "code",
   "execution_count": 15,
   "metadata": {
    "colab": {
     "base_uri": "https://localhost:8080/",
     "height": 429
    },
    "execution": {
     "iopub.execute_input": "2025-04-28T06:35:44.10588Z",
     "iopub.status.busy": "2025-04-28T06:35:44.105446Z",
     "iopub.status.idle": "2025-04-28T06:35:44.116026Z",
     "shell.execute_reply": "2025-04-28T06:35:44.114702Z",
     "shell.execute_reply.started": "2025-04-28T06:35:44.105848Z"
    },
    "id": "738a7fa7",
    "outputId": "beb65f88-825a-4871-fe90-638f6616fee4"
   },
   "outputs": [
    {
     "data": {
      "text/plain": [
       "Age                         0\n",
       "Gender                      0\n",
       "Heart rate                  0\n",
       "Systolic blood pressure     0\n",
       "Diastolic blood pressure    0\n",
       "Blood sugar                 0\n",
       "CK-MB                       0\n",
       "Troponin                    0\n",
       "Result                      0\n",
       "Risk_Level                  0\n",
       "Recommendation              0\n",
       "dtype: int64"
      ]
     },
     "execution_count": 15,
     "metadata": {},
     "output_type": "execute_result"
    }
   ],
   "source": [
    "df.isnull().sum()"
   ]
  },
  {
   "cell_type": "markdown",
   "metadata": {
    "id": "6c1228ac"
   },
   "source": [
    " Data Summarize 🎈"
   ]
  },
  {
   "cell_type": "code",
   "execution_count": 16,
   "metadata": {
    "colab": {
     "base_uri": "https://localhost:8080/"
    },
    "execution": {
     "iopub.execute_input": "2025-04-28T06:35:44.540681Z",
     "iopub.status.busy": "2025-04-28T06:35:44.54031Z",
     "iopub.status.idle": "2025-04-28T06:35:44.553068Z",
     "shell.execute_reply": "2025-04-28T06:35:44.552119Z",
     "shell.execute_reply.started": "2025-04-28T06:35:44.540655Z"
    },
    "id": "40b1e6ec",
    "outputId": "ba6dff85-fcaa-4791-cff1-ae47e6803ad6"
   },
   "outputs": [
    {
     "name": "stdout",
     "output_type": "stream",
     "text": [
      "<class 'pandas.core.frame.DataFrame'>\n",
      "RangeIndex: 1319 entries, 0 to 1318\n",
      "Data columns (total 11 columns):\n",
      " #   Column                    Non-Null Count  Dtype  \n",
      "---  ------                    --------------  -----  \n",
      " 0   Age                       1319 non-null   int64  \n",
      " 1   Gender                    1319 non-null   int64  \n",
      " 2   Heart rate                1319 non-null   int64  \n",
      " 3   Systolic blood pressure   1319 non-null   int64  \n",
      " 4   Diastolic blood pressure  1319 non-null   int64  \n",
      " 5   Blood sugar               1319 non-null   float64\n",
      " 6   CK-MB                     1319 non-null   float64\n",
      " 7   Troponin                  1319 non-null   float64\n",
      " 8   Result                    1319 non-null   object \n",
      " 9   Risk_Level                1319 non-null   object \n",
      " 10  Recommendation            1319 non-null   object \n",
      "dtypes: float64(3), int64(5), object(3)\n",
      "memory usage: 113.5+ KB\n"
     ]
    }
   ],
   "source": [
    "df.info()"
   ]
  },
  {
   "cell_type": "markdown",
   "metadata": {
    "id": "700cfa7d"
   },
   "source": [
    " Check Statistical Summary 🎈"
   ]
  },
  {
   "cell_type": "code",
   "execution_count": 17,
   "metadata": {
    "colab": {
     "base_uri": "https://localhost:8080/",
     "height": 300
    },
    "execution": {
     "iopub.execute_input": "2025-04-28T06:35:44.977249Z",
     "iopub.status.busy": "2025-04-28T06:35:44.976897Z",
     "iopub.status.idle": "2025-04-28T06:35:45.007072Z",
     "shell.execute_reply": "2025-04-28T06:35:45.006063Z",
     "shell.execute_reply.started": "2025-04-28T06:35:44.977221Z"
    },
    "id": "da474fc3",
    "outputId": "df532eec-3fed-46d2-9b73-57a27a4f28b9"
   },
   "outputs": [
    {
     "data": {
      "text/html": [
       "<div>\n",
       "<style scoped>\n",
       "    .dataframe tbody tr th:only-of-type {\n",
       "        vertical-align: middle;\n",
       "    }\n",
       "\n",
       "    .dataframe tbody tr th {\n",
       "        vertical-align: top;\n",
       "    }\n",
       "\n",
       "    .dataframe thead th {\n",
       "        text-align: right;\n",
       "    }\n",
       "</style>\n",
       "<table border=\"1\" class=\"dataframe\">\n",
       "  <thead>\n",
       "    <tr style=\"text-align: right;\">\n",
       "      <th></th>\n",
       "      <th>Age</th>\n",
       "      <th>Gender</th>\n",
       "      <th>Heart rate</th>\n",
       "      <th>Systolic blood pressure</th>\n",
       "      <th>Diastolic blood pressure</th>\n",
       "      <th>Blood sugar</th>\n",
       "      <th>CK-MB</th>\n",
       "      <th>Troponin</th>\n",
       "    </tr>\n",
       "  </thead>\n",
       "  <tbody>\n",
       "    <tr>\n",
       "      <th>count</th>\n",
       "      <td>1319.000000</td>\n",
       "      <td>1319.000000</td>\n",
       "      <td>1319.000000</td>\n",
       "      <td>1319.000000</td>\n",
       "      <td>1319.000000</td>\n",
       "      <td>1319.000000</td>\n",
       "      <td>1319.000000</td>\n",
       "      <td>1319.000000</td>\n",
       "    </tr>\n",
       "    <tr>\n",
       "      <th>mean</th>\n",
       "      <td>56.193328</td>\n",
       "      <td>0.659591</td>\n",
       "      <td>78.336619</td>\n",
       "      <td>127.170584</td>\n",
       "      <td>72.269143</td>\n",
       "      <td>146.634344</td>\n",
       "      <td>15.274306</td>\n",
       "      <td>0.360942</td>\n",
       "    </tr>\n",
       "    <tr>\n",
       "      <th>std</th>\n",
       "      <td>13.638173</td>\n",
       "      <td>0.474027</td>\n",
       "      <td>51.630270</td>\n",
       "      <td>26.122720</td>\n",
       "      <td>14.033924</td>\n",
       "      <td>74.923045</td>\n",
       "      <td>46.327083</td>\n",
       "      <td>1.154568</td>\n",
       "    </tr>\n",
       "    <tr>\n",
       "      <th>min</th>\n",
       "      <td>14.000000</td>\n",
       "      <td>0.000000</td>\n",
       "      <td>20.000000</td>\n",
       "      <td>42.000000</td>\n",
       "      <td>38.000000</td>\n",
       "      <td>35.000000</td>\n",
       "      <td>0.321000</td>\n",
       "      <td>0.001000</td>\n",
       "    </tr>\n",
       "    <tr>\n",
       "      <th>25%</th>\n",
       "      <td>47.000000</td>\n",
       "      <td>0.000000</td>\n",
       "      <td>64.000000</td>\n",
       "      <td>110.000000</td>\n",
       "      <td>62.000000</td>\n",
       "      <td>98.000000</td>\n",
       "      <td>1.655000</td>\n",
       "      <td>0.006000</td>\n",
       "    </tr>\n",
       "    <tr>\n",
       "      <th>50%</th>\n",
       "      <td>58.000000</td>\n",
       "      <td>1.000000</td>\n",
       "      <td>74.000000</td>\n",
       "      <td>124.000000</td>\n",
       "      <td>72.000000</td>\n",
       "      <td>116.000000</td>\n",
       "      <td>2.850000</td>\n",
       "      <td>0.014000</td>\n",
       "    </tr>\n",
       "    <tr>\n",
       "      <th>75%</th>\n",
       "      <td>65.000000</td>\n",
       "      <td>1.000000</td>\n",
       "      <td>85.000000</td>\n",
       "      <td>143.000000</td>\n",
       "      <td>81.000000</td>\n",
       "      <td>169.500000</td>\n",
       "      <td>5.805000</td>\n",
       "      <td>0.085500</td>\n",
       "    </tr>\n",
       "    <tr>\n",
       "      <th>max</th>\n",
       "      <td>103.000000</td>\n",
       "      <td>1.000000</td>\n",
       "      <td>1111.000000</td>\n",
       "      <td>223.000000</td>\n",
       "      <td>154.000000</td>\n",
       "      <td>541.000000</td>\n",
       "      <td>300.000000</td>\n",
       "      <td>10.300000</td>\n",
       "    </tr>\n",
       "  </tbody>\n",
       "</table>\n",
       "</div>"
      ],
      "text/plain": [
       "               Age       Gender   Heart rate  Systolic blood pressure  \\\n",
       "count  1319.000000  1319.000000  1319.000000              1319.000000   \n",
       "mean     56.193328     0.659591    78.336619               127.170584   \n",
       "std      13.638173     0.474027    51.630270                26.122720   \n",
       "min      14.000000     0.000000    20.000000                42.000000   \n",
       "25%      47.000000     0.000000    64.000000               110.000000   \n",
       "50%      58.000000     1.000000    74.000000               124.000000   \n",
       "75%      65.000000     1.000000    85.000000               143.000000   \n",
       "max     103.000000     1.000000  1111.000000               223.000000   \n",
       "\n",
       "       Diastolic blood pressure  Blood sugar        CK-MB     Troponin  \n",
       "count               1319.000000  1319.000000  1319.000000  1319.000000  \n",
       "mean                  72.269143   146.634344    15.274306     0.360942  \n",
       "std                   14.033924    74.923045    46.327083     1.154568  \n",
       "min                   38.000000    35.000000     0.321000     0.001000  \n",
       "25%                   62.000000    98.000000     1.655000     0.006000  \n",
       "50%                   72.000000   116.000000     2.850000     0.014000  \n",
       "75%                   81.000000   169.500000     5.805000     0.085500  \n",
       "max                  154.000000   541.000000   300.000000    10.300000  "
      ]
     },
     "execution_count": 17,
     "metadata": {},
     "output_type": "execute_result"
    }
   ],
   "source": [
    "df.describe()"
   ]
  },
  {
   "cell_type": "markdown",
   "metadata": {
    "id": "225839ee"
   },
   "source": [
    " Check Correlation 🎈"
   ]
  },
  {
   "cell_type": "code",
   "execution_count": 18,
   "metadata": {
    "colab": {
     "base_uri": "https://localhost:8080/",
     "height": 300
    },
    "execution": {
     "iopub.execute_input": "2025-04-28T06:35:45.373264Z",
     "iopub.status.busy": "2025-04-28T06:35:45.372956Z",
     "iopub.status.idle": "2025-04-28T06:35:45.387617Z",
     "shell.execute_reply": "2025-04-28T06:35:45.38659Z",
     "shell.execute_reply.started": "2025-04-28T06:35:45.373245Z"
    },
    "id": "ddb23721",
    "outputId": "6a28abab-36f8-4c5a-ca11-4d20ec98075d"
   },
   "outputs": [
    {
     "ename": "TypeError",
     "evalue": "corr() got an unexpected keyword argument 'numeric_only'",
     "output_type": "error",
     "traceback": [
      "\u001b[1;31m---------------------------------------------------------------------------\u001b[0m",
      "\u001b[1;31mTypeError\u001b[0m                                 Traceback (most recent call last)",
      "\u001b[1;32m~\\AppData\\Local\\Temp\\ipykernel_13292\\2803712668.py\u001b[0m in \u001b[0;36m<module>\u001b[1;34m\u001b[0m\n\u001b[1;32m----> 1\u001b[1;33m \u001b[0mdf\u001b[0m\u001b[1;33m.\u001b[0m\u001b[0mcorr\u001b[0m\u001b[1;33m(\u001b[0m\u001b[0mnumeric_only\u001b[0m\u001b[1;33m=\u001b[0m\u001b[1;32mTrue\u001b[0m\u001b[1;33m)\u001b[0m\u001b[1;33m\u001b[0m\u001b[1;33m\u001b[0m\u001b[0m\n\u001b[0m",
      "\u001b[1;31mTypeError\u001b[0m: corr() got an unexpected keyword argument 'numeric_only'"
     ]
    }
   ],
   "source": [
    "df.corr(numeric_only=True)"
   ]
  },
  {
   "cell_type": "code",
   "execution_count": null,
   "metadata": {
    "colab": {
     "base_uri": "https://localhost:8080/"
    },
    "execution": {
     "iopub.execute_input": "2025-04-28T06:35:45.59894Z",
     "iopub.status.busy": "2025-04-28T06:35:45.598647Z",
     "iopub.status.idle": "2025-04-28T06:35:45.604949Z",
     "shell.execute_reply": "2025-04-28T06:35:45.604104Z",
     "shell.execute_reply.started": "2025-04-28T06:35:45.59892Z"
    },
    "id": "3221cc95",
    "outputId": "0670412b-9e72-4663-dbee-81d37bdc32f8"
   },
   "outputs": [],
   "source": [
    "df.columns"
   ]
  },
  {
   "cell_type": "markdown",
   "metadata": {
    "id": "935fb296"
   },
   "source": [
    "# EDA"
   ]
  },
  {
   "cell_type": "markdown",
   "metadata": {
    "id": "f8ee2ee2"
   },
   "source": [
    "-  Exploratory Data Analysis (Data Visualization) 🎈"
   ]
  },
  {
   "cell_type": "code",
   "execution_count": null,
   "metadata": {
    "colab": {
     "base_uri": "https://localhost:8080/",
     "height": 206
    },
    "execution": {
     "iopub.execute_input": "2025-04-28T06:35:46.1667Z",
     "iopub.status.busy": "2025-04-28T06:35:46.166031Z",
     "iopub.status.idle": "2025-04-28T06:35:46.178928Z",
     "shell.execute_reply": "2025-04-28T06:35:46.178205Z",
     "shell.execute_reply.started": "2025-04-28T06:35:46.166631Z"
    },
    "id": "9dfa104d",
    "outputId": "09fc6953-0037-409c-9e59-a05ed9c95698"
   },
   "outputs": [],
   "source": [
    "df.head()"
   ]
  },
  {
   "cell_type": "markdown",
   "metadata": {
    "id": "c45acc04"
   },
   "source": [
    " Check Distribution of Recommendation Column 🎈"
   ]
  },
  {
   "cell_type": "code",
   "execution_count": null,
   "metadata": {
    "colab": {
     "base_uri": "https://localhost:8080/",
     "height": 523
    },
    "execution": {
     "iopub.execute_input": "2025-04-28T06:35:51.196068Z",
     "iopub.status.busy": "2025-04-28T06:35:51.195765Z",
     "iopub.status.idle": "2025-04-28T06:35:51.347073Z",
     "shell.execute_reply": "2025-04-28T06:35:51.346098Z",
     "shell.execute_reply.started": "2025-04-28T06:35:51.196047Z"
    },
    "id": "3e2b19a3",
    "outputId": "e8e9f2b1-a919-4c05-a601-e5b19ff0ed13"
   },
   "outputs": [],
   "source": [
    "df['Recommendation'].value_counts().plot(kind='pie', autopct='%.2f', shadow=True, explode=[0,0,0.1],\n",
    "                                        colors=['hotpink', 'teal', 'steelblue'], figsize=(9,6))\n",
    "plt.title('Distribution Of Recommendation', fontsize=15)\n",
    "plt.show()"
   ]
  },
  {
   "cell_type": "markdown",
   "metadata": {
    "id": "bf2aca4d"
   },
   "source": [
    " Check Distribution of Risk Level Column 🎈"
   ]
  },
  {
   "cell_type": "code",
   "execution_count": null,
   "metadata": {
    "colab": {
     "base_uri": "https://localhost:8080/",
     "height": 523
    },
    "execution": {
     "iopub.execute_input": "2025-04-28T06:35:51.533797Z",
     "iopub.status.busy": "2025-04-28T06:35:51.53304Z",
     "iopub.status.idle": "2025-04-28T06:35:51.668656Z",
     "shell.execute_reply": "2025-04-28T06:35:51.66766Z",
     "shell.execute_reply.started": "2025-04-28T06:35:51.533769Z"
    },
    "id": "b3ed20e3",
    "outputId": "f348a225-1ab2-4df0-fc3d-8ea1fdc89d5d"
   },
   "outputs": [],
   "source": [
    "df['Risk_Level'].value_counts().plot(kind='pie', autopct='%.2f', shadow=True, explode=[0,0.1,0],\n",
    "                                        colors=['gray', 'orange', 'tomato'], figsize=(9,6))\n",
    "plt.title('Distribution Of Risk Level', fontsize=15)\n",
    "plt.show()"
   ]
  },
  {
   "cell_type": "markdown",
   "metadata": {
    "id": "955bcf90"
   },
   "source": [
    " Check Distribution of Result Column 🎈"
   ]
  },
  {
   "cell_type": "code",
   "execution_count": null,
   "metadata": {
    "colab": {
     "base_uri": "https://localhost:8080/",
     "height": 570
    },
    "execution": {
     "iopub.execute_input": "2025-04-28T06:35:51.863403Z",
     "iopub.status.busy": "2025-04-28T06:35:51.863069Z",
     "iopub.status.idle": "2025-04-28T06:35:52.046646Z",
     "shell.execute_reply": "2025-04-28T06:35:52.04581Z",
     "shell.execute_reply.started": "2025-04-28T06:35:51.863381Z"
    },
    "id": "9e240dc4",
    "outputId": "79e318f1-06af-41c5-df51-2051beb4b269"
   },
   "outputs": [],
   "source": [
    "sns.set_style('darkgrid')\n",
    "plt.figure(figsize=(11,6))\n",
    "sns.countplot(x=df['Result'], palette='mako')\n",
    "plt.title('Distribution Of Result', fontsize=15)\n",
    "plt.xlabel('Result', fontsize=13)\n",
    "plt.ylabel('Count', fontsize=13)\n",
    "plt.show()"
   ]
  },
  {
   "cell_type": "markdown",
   "metadata": {
    "id": "ae258f63"
   },
   "source": [
    " Check Distribution of Result Column with Gender🎈"
   ]
  },
  {
   "cell_type": "code",
   "execution_count": null,
   "metadata": {
    "colab": {
     "base_uri": "https://localhost:8080/",
     "height": 570
    },
    "execution": {
     "iopub.execute_input": "2025-04-28T06:35:52.144103Z",
     "iopub.status.busy": "2025-04-28T06:35:52.143776Z",
     "iopub.status.idle": "2025-04-28T06:35:52.33563Z",
     "shell.execute_reply": "2025-04-28T06:35:52.334836Z",
     "shell.execute_reply.started": "2025-04-28T06:35:52.14408Z"
    },
    "id": "a5ecf110",
    "outputId": "14fbf471-29cd-41fd-cd50-51e3b868c41f"
   },
   "outputs": [],
   "source": [
    "\n",
    "plt.figure(figsize=(11,6))\n",
    "sns.countplot(x=df['Result'], palette='jet_r', hue=df['Gender'])\n",
    "plt.title('Result Vs Gender', fontsize=15)\n",
    "plt.xlabel('Result', fontsize=13)\n",
    "plt.ylabel('Count', fontsize=13)\n",
    "plt.show()"
   ]
  },
  {
   "cell_type": "markdown",
   "metadata": {
    "id": "b929df36"
   },
   "source": [
    " Check Distribution Numerical Columns (histplot) 🎈"
   ]
  },
  {
   "cell_type": "code",
   "execution_count": null,
   "metadata": {
    "colab": {
     "base_uri": "https://localhost:8080/",
     "height": 1000
    },
    "execution": {
     "iopub.execute_input": "2025-04-28T06:35:52.43972Z",
     "iopub.status.busy": "2025-04-28T06:35:52.439401Z",
     "iopub.status.idle": "2025-04-28T06:35:57.799993Z",
     "shell.execute_reply": "2025-04-28T06:35:57.798979Z",
     "shell.execute_reply.started": "2025-04-28T06:35:52.439672Z"
    },
    "id": "c844083d",
    "outputId": "40fadb74-5bd3-4ec8-c6b8-df2d916ae876"
   },
   "outputs": [],
   "source": [
    "columns = ['Age', 'Gender', 'Heart rate', 'Systolic blood pressure',\n",
    "       'Diastolic blood pressure', 'Blood sugar', 'CK-MB', 'Troponin']\n",
    "\n",
    "plt.figure(figsize=(14,12))\n",
    "for i, col in enumerate(columns):\n",
    "    plt.subplot(4, 2, i + 1)\n",
    "    sns.histplot(data=df, x=col, kde=True, color='brown')\n",
    "    plt.title(f'Distribution of {col}', fontsize=15)\n",
    "    plt.tight_layout(pad=3.0)\n",
    "\n",
    "plt.show()"
   ]
  },
  {
   "cell_type": "markdown",
   "metadata": {
    "id": "d7b91532"
   },
   "source": [
    " Scatterplot of Age vs Heart Rate with Result 🎈"
   ]
  },
  {
   "cell_type": "code",
   "execution_count": null,
   "metadata": {
    "colab": {
     "base_uri": "https://localhost:8080/",
     "height": 570
    },
    "execution": {
     "iopub.execute_input": "2025-04-28T06:35:57.801967Z",
     "iopub.status.busy": "2025-04-28T06:35:57.80166Z",
     "iopub.status.idle": "2025-04-28T06:35:58.149432Z",
     "shell.execute_reply": "2025-04-28T06:35:58.14842Z",
     "shell.execute_reply.started": "2025-04-28T06:35:57.801936Z"
    },
    "id": "f54d39a0",
    "outputId": "6a9adf6b-5150-4892-81b5-2f870bb58fff"
   },
   "outputs": [],
   "source": [
    "plt.figure(figsize=(11,6))\n",
    "sns.scatterplot(x=df['Age'], y=df['Heart rate'], s=120, alpha=0.8, hue=df['Result'], palette='magma')\n",
    "plt.title('Age Vs Heart Rate With Result', fontsize=15)\n",
    "plt.xlabel('Age', fontsize=13)\n",
    "plt.ylabel('Heart Rate', fontsize=13)\n",
    "plt.show()"
   ]
  },
  {
   "cell_type": "markdown",
   "metadata": {
    "id": "ff73155b"
   },
   "source": [
    " Scatterplot of Systolic blood pressure vs Diastolic blood pressure with Result 🎈"
   ]
  },
  {
   "cell_type": "code",
   "execution_count": null,
   "metadata": {
    "colab": {
     "base_uri": "https://localhost:8080/",
     "height": 570
    },
    "execution": {
     "iopub.execute_input": "2025-04-28T06:35:58.150788Z",
     "iopub.status.busy": "2025-04-28T06:35:58.150501Z",
     "iopub.status.idle": "2025-04-28T06:35:58.534011Z",
     "shell.execute_reply": "2025-04-28T06:35:58.533011Z",
     "shell.execute_reply.started": "2025-04-28T06:35:58.150759Z"
    },
    "id": "d1fa0ad1",
    "outputId": "2e049333-d050-4607-b3aa-63d9215e2bca"
   },
   "outputs": [],
   "source": [
    "plt.figure(figsize=(11,6))\n",
    "sns.scatterplot(x=df['Systolic blood pressure'], y=df['Diastolic blood pressure'], s=120, alpha=0.8,\n",
    "                hue=df['Result'], palette='summer')\n",
    "plt.title('Systolic blood pressure Vs Diastolic blood pressure With Result', fontsize=15)\n",
    "plt.xlabel('Systolic blood pressure', fontsize=13)\n",
    "plt.ylabel('Diastolic blood pressure', fontsize=13)\n",
    "plt.show()"
   ]
  },
  {
   "cell_type": "markdown",
   "metadata": {
    "id": "a705ea39"
   },
   "source": [
    " Check Correlation of Numerical Columns 🎈"
   ]
  },
  {
   "cell_type": "code",
   "execution_count": null,
   "metadata": {
    "colab": {
     "base_uri": "https://localhost:8080/",
     "height": 700
    },
    "execution": {
     "iopub.execute_input": "2025-04-28T06:35:58.536235Z",
     "iopub.status.busy": "2025-04-28T06:35:58.535808Z",
     "iopub.status.idle": "2025-04-28T06:35:58.97756Z",
     "shell.execute_reply": "2025-04-28T06:35:58.97663Z",
     "shell.execute_reply.started": "2025-04-28T06:35:58.536205Z"
    },
    "id": "7ef4a2ed",
    "outputId": "67f24414-1c68-4d73-ea1e-451e881304e7"
   },
   "outputs": [],
   "source": [
    "plt.figure(figsize=(11,6))\n",
    "sns.heatmap(df.corr(numeric_only=True), cmap='jet', annot=True)\n",
    "plt.title('Correlation of Numerical Features', fontsize=15)\n",
    "plt.show()"
   ]
  },
  {
   "cell_type": "markdown",
   "metadata": {
    "id": "88f1d2e2"
   },
   "source": [
    "# Encoding Categorical Features"
   ]
  },
  {
   "cell_type": "code",
   "execution_count": null,
   "metadata": {
    "execution": {
     "iopub.execute_input": "2025-04-28T06:35:58.978983Z",
     "iopub.status.busy": "2025-04-28T06:35:58.978638Z",
     "iopub.status.idle": "2025-04-28T06:35:58.986053Z",
     "shell.execute_reply": "2025-04-28T06:35:58.985115Z",
     "shell.execute_reply.started": "2025-04-28T06:35:58.978956Z"
    },
    "id": "7a353d66"
   },
   "outputs": [],
   "source": [
    "encoder = LabelEncoder()\n",
    "for c in ['Result', 'Risk_Level', 'Recommendation']:\n",
    "    df[c] = encoder.fit_transform(df[c]) # Result- 0: Negative, 1: Positive"
   ]
  },
  {
   "cell_type": "markdown",
   "metadata": {
    "id": "d119378b"
   },
   "source": [
    " Data Split into Training and Testing Sets 🎈"
   ]
  },
  {
   "cell_type": "code",
   "execution_count": null,
   "metadata": {
    "colab": {
     "base_uri": "https://localhost:8080/"
    },
    "execution": {
     "iopub.execute_input": "2025-04-28T06:35:58.987743Z",
     "iopub.status.busy": "2025-04-28T06:35:58.987052Z",
     "iopub.status.idle": "2025-04-28T06:35:59.009337Z",
     "shell.execute_reply": "2025-04-28T06:35:59.008389Z",
     "shell.execute_reply.started": "2025-04-28T06:35:58.987719Z"
    },
    "id": "cf22c797",
    "outputId": "8f39a3ff-79d1-4272-a459-b952f519587a"
   },
   "outputs": [],
   "source": [
    "X = df.drop('Result', axis=1)\n",
    "y = df['Result']\n",
    "\n",
    "X_train,X_test, y_train,y_test = train_test_split(X,y , test_size=0.2)\n",
    "print(f\"X_train Shape: {X_train.shape}\")\n",
    "print(f\"Y_train Shape: {y_train.shape}\")\n",
    "print(f\"X_test Shape: {X_test.shape}\")\n",
    "print(f\"y_test Shape: {y_test.shape}\")"
   ]
  },
  {
   "cell_type": "markdown",
   "metadata": {
    "id": "966e6550"
   },
   "source": [
    "# Models Building"
   ]
  },
  {
   "cell_type": "markdown",
   "metadata": {
    "id": "559629c9"
   },
   "source": [
    " 1- Logistic Regression 🎈    \n",
    " 2- Random Forest Classifier 🎈       \n",
    " 3- Gradient Boosting Classifier 🎈    \n",
    " 4- Naive Bayes 🎈      \n",
    " 5- Decision Tree Classifier🎈         "
   ]
  },
  {
   "cell_type": "code",
   "execution_count": null,
   "metadata": {
    "execution": {
     "iopub.execute_input": "2025-04-28T06:36:04.272324Z",
     "iopub.status.busy": "2025-04-28T06:36:04.271979Z",
     "iopub.status.idle": "2025-04-28T06:36:04.277395Z",
     "shell.execute_reply": "2025-04-28T06:36:04.276014Z",
     "shell.execute_reply.started": "2025-04-28T06:36:04.272303Z"
    },
    "id": "75288df6"
   },
   "outputs": [],
   "source": [
    "models = {\n",
    "    \"Logistic Regression\": LogisticRegression(),\n",
    "    \"Random Forest Classifier\": RandomForestClassifier(),\n",
    "    \"Gradient Boosting Classifier\": GradientBoostingClassifier(),\n",
    "    \"Naive Bayes\": GaussianNB(),\n",
    "    \"Decision Tree Classifier\": DecisionTreeClassifier()\n",
    "}"
   ]
  },
  {
   "cell_type": "markdown",
   "metadata": {
    "id": "e1731ae8"
   },
   "source": [
    "Models Training and Prediction, Calculate accuracy Score, and ------ 🎈         "
   ]
  },
  {
   "cell_type": "code",
   "execution_count": null,
   "metadata": {
    "colab": {
     "base_uri": "https://localhost:8080/",
     "height": 1000
    },
    "execution": {
     "iopub.execute_input": "2025-04-28T06:36:06.769297Z",
     "iopub.status.busy": "2025-04-28T06:36:06.768953Z",
     "iopub.status.idle": "2025-04-28T06:36:08.964863Z",
     "shell.execute_reply": "2025-04-28T06:36:08.964201Z",
     "shell.execute_reply.started": "2025-04-28T06:36:06.769273Z"
    },
    "id": "acdd13ea",
    "outputId": "805cf9a4-c165-4759-c752-be823e09c42b"
   },
   "outputs": [],
   "source": [
    "summary = []\n",
    "for names, model in models.items():\n",
    "    model.fit(X_train, y_train)\n",
    "    preds = model.predict(X_test)\n",
    "    accuracy = accuracy_score(y_test, preds)\n",
    "    p = precision_score(y_test, preds)\n",
    "    r = recall_score(y_test, preds, average='macro')\n",
    "    f = f1_score(y_test, preds,  average='macro')\n",
    "    print(f\"\\n⭐Name: {names}\")\n",
    "    print(f\"Accuracy: {accuracy:.2f}\")\n",
    "    print(f\"Precision Score: {p}\")\n",
    "\n",
    "    plt.figure(figsize=(6, 4))\n",
    "    cm  = confusion_matrix(y_test,preds)\n",
    "    sns.heatmap(cm, annot=True, cmap='jet_r')\n",
    "    plt.title(f\"{names}-  Confution Metrics \")\n",
    "    plt.xlabel('Predicted')\n",
    "    plt.ylabel('True')\n",
    "    plt.tight_layout()\n",
    "    plt.show()\n",
    "\n",
    "    summary.append({\n",
    "        'Model Name': names,\n",
    "        'Test Accuracy': accuracy,\n",
    "        'Test Precision': p,\n",
    "        'Test Recall Score': r,\n",
    "        'Test F1 Score': f\n",
    "\n",
    "    })\n",
    "    summary_df = pd.DataFrame(summary)\n",
    "\n",
    "# Show all model evaluation metrics in one table\n",
    "print(\"\\n⭐ Summary:\")\n",
    "summary_df"
   ]
  },
  {
   "cell_type": "markdown",
   "metadata": {
    "id": "8b43a277"
   },
   "source": [
    "# Summary"
   ]
  },
  {
   "cell_type": "markdown",
   "metadata": {
    "id": "20a95252"
   },
   "source": [
    " summary show in graph 🎈         "
   ]
  },
  {
   "cell_type": "code",
   "execution_count": null,
   "metadata": {
    "colab": {
     "base_uri": "https://localhost:8080/",
     "height": 697
    },
    "execution": {
     "iopub.execute_input": "2025-04-28T06:36:40.107008Z",
     "iopub.status.busy": "2025-04-28T06:36:40.10668Z",
     "iopub.status.idle": "2025-04-28T06:36:40.327058Z",
     "shell.execute_reply": "2025-04-28T06:36:40.326239Z",
     "shell.execute_reply.started": "2025-04-28T06:36:40.106986Z"
    },
    "id": "dc888f81",
    "outputId": "e70b00cc-ae0f-4c2e-9d2c-c0b049d18b63"
   },
   "outputs": [],
   "source": [
    "plt.figure(figsize=(12, 6))\n",
    "sns.barplot(data=summary_df, x='Model Name', y='Test Accuracy', palette='crest')\n",
    "plt.title(\"Model Accuracy Comparison\")\n",
    "plt.ylabel(\"Accuracy\")\n",
    "plt.xticks(rotation=45)\n",
    "plt.show()"
   ]
  },
  {
   "cell_type": "code",
   "execution_count": null,
   "metadata": {
    "id": "1bc382ff"
   },
   "outputs": [],
   "source": []
  },
  {
   "cell_type": "code",
   "execution_count": null,
   "metadata": {},
   "outputs": [],
   "source": []
  }
 ],
 "metadata": {
  "colab": {
   "name": "EDA & ML Modeling | 100%",
   "provenance": []
  },
  "kaggle": {
   "accelerator": "none",
   "dataSources": [
    {
     "datasetId": 7165051,
     "sourceId": 11438457,
     "sourceType": "datasetVersion"
    }
   ],
   "dockerImageVersionId": 31012,
   "isGpuEnabled": false,
   "isInternetEnabled": true,
   "language": "python",
   "sourceType": "notebook"
  },
  "kernelspec": {
   "display_name": "Python 3 (ipykernel)",
   "language": "python",
   "name": "python3"
  },
  "language_info": {
   "codemirror_mode": {
    "name": "ipython",
    "version": 3
   },
   "file_extension": ".py",
   "mimetype": "text/x-python",
   "name": "python",
   "nbconvert_exporter": "python",
   "pygments_lexer": "ipython3",
   "version": "3.9.15"
  }
 },
 "nbformat": 4,
 "nbformat_minor": 1
}
